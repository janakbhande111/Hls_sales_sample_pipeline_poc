{
 "cells": [
  {
   "cell_type": "code",
   "execution_count": 0,
   "metadata": {
    "application/vnd.databricks.v1+cell": {
     "cellMetadata": {
      "byteLimit": 2048000,
      "rowLimit": 10000
     },
     "inputWidgets": {},
     "nuid": "57046fd3-3294-44ce-b7b9-eb043b69bc73",
     "showTitle": false,
     "tableResultSettingsMap": {},
     "title": ""
    }
   },
   "outputs": [],
   "source": [
    "from pyspark.sql import SparkSession\n",
    "from pyspark.sql.functions import sum as spark_sum, avg as spark_avg\n",
    "import pandas as pd\n",
    "import smtplib\n",
    "from email.mime.multipart import MIMEMultipart\n",
    "from email.mime.text import MIMEText\n",
    "\n",
    "# Initialize Spark session\n",
    "spark = SparkSession.builder \\\n",
    "    .appName(\"csv Preview Email with App Password\") \\\n",
    "    .getOrCreate()\n",
    "\n",
    "# Load csv table\n",
    "\n",
    "gold_path_delta = '/Volumes/workspace/hls_demo_2/conform_data/gold_layer_delta'\n",
    "\n",
    "# Load Gold layer data\n",
    "gold_df = spark.read.format('delta').load(gold_path_delta)\n",
    "\n",
    "agg_summary_df = gold_df.agg(\n",
    "    spark_sum('total_sales_amount').alias('total_sales_amount'),\n",
    "    spark_sum('total_sales_qty').alias('total_sales_qty'),\n",
    "    spark_avg('avg_success_rate').alias('avg_success_rate'),\n",
    "    spark_sum('total_stock_qty').alias('total_stock_qty')\n",
    ")\n",
    "\n",
    "agg_summary_pd = agg_summary_df.toPandas()\n",
    "agg_summary_html = agg_summary_pd.to_html(index=False, border=1)\n",
    "\n",
    "\n",
    "# Email details\n",
    "\n",
    "my_email = \"janakbhande111@gmail.com\"\n",
    "subject = \"email notification check\"\n",
    "app_password = \"crzvagfqtkufcodn\"\n",
    "\n",
    "# SMTP config (choose one)\n",
    "use_gmail = True\n",
    "\n",
    "smtp_server = \"smtp.gmail.com\" if use_gmail else \"smtp.office365.com\"\n",
    "smtp_port = 587\n",
    "\n",
    "# Construct email\n",
    "msg = MIMEMultipart(\"alternative\")\n",
    "msg[\"Subject\"] = subject\n",
    "msg[\"From\"] = my_email\n",
    "msg[\"To\"] = \"janak.bhande2001@gmail.com\" \n",
    "\n",
    "# HTML body\n",
    "html_body = f\"\"\"\n",
    "<html>\n",
    "  <body>\n",
    "    <h2>some aggregations in pipeline by Janak\n",
    "    </h2>\n",
    "    {agg_summary_html}\n",
    "    <br><br>\n",
    "  </body>\n",
    "</html>\n",
    "\"\"\"\n",
    "\n",
    "msg.attach(MIMEText(html_body, \"html\"))\n",
    "\n",
    "# Send email\n",
    "try:\n",
    "    with smtplib.SMTP(smtp_server, smtp_port) as server:\n",
    "        server.starttls()\n",
    "        server.login(my_email, app_password)\n",
    "        server.sendmail(my_email, \"janak.bhande2001@gmail.com\", msg.as_string())\n",
    "    print(\"✅ Email sent successfully.\")\n",
    "except Exception as e:\n",
    "    print(f\"❌ Failed to send email: {e}\")\n"
   ]
  }
 ],
 "metadata": {
  "application/vnd.databricks.v1+notebook": {
   "computePreferences": null,
   "dashboards": [],
   "environmentMetadata": {
    "base_environment": "",
    "environment_version": "3"
   },
   "inputWidgetPreferences": null,
   "language": "python",
   "notebookMetadata": {
    "pythonIndentUnit": 4
   },
   "notebookName": "email notification",
   "widgets": {}
  },
  "language_info": {
   "name": "python"
  }
 },
 "nbformat": 4,
 "nbformat_minor": 0
}
