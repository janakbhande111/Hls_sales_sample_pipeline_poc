{
 "cells": [
  {
   "cell_type": "code",
   "execution_count": 0,
   "metadata": {
    "application/vnd.databricks.v1+cell": {
     "cellMetadata": {
      "byteLimit": 2048000,
      "rowLimit": 10000
     },
     "inputWidgets": {},
     "nuid": "049048b5-8bc8-4b1b-8103-96fcf53e4ee7",
     "showTitle": false,
     "tableResultSettingsMap": {},
     "title": ""
    }
   },
   "outputs": [],
   "source": [
    "\n",
    "from pyspark.sql import functions as F\n",
    "from pyspark.sql.types import DoubleType\n",
    "\n",
    "bronze_path_sales_delta = '/Volumes/workspace/hls_demo_2/raw_data/sales_data_bronze_delta'\n",
    "bronze_path_inventory_delta = '/Volumes/workspace/hls_demo_2/raw_data/inventory_data_bronze_delta'\n",
    "bronze_path_clinical_trial_delta = '/Volumes/workspace/hls_demo_2/raw_data/clinical_trial_data_bronze_delta'\n",
    "\n",
    "sales_df = spark.read.format('delta').load(bronze_path_sales_delta)\n",
    "inventory_df = spark.read.format('delta').load(bronze_path_inventory_delta)\n",
    "clinical_trial_df = spark.read.format('delta').load(bronze_path_clinical_trial_delta)\n",
    "\n",
    "# Cleanse: Remove rows with missing values in critical columns\n",
    "sales_df_cleaned = sales_df.dropna(subset=['product_code', 'product_name', 'sales_qty', 'sales_amount'])\n",
    "\n",
    "# Aggregation: Total sales by product and region\n",
    "sales_silver_df = sales_df_cleaned.groupBy('product_name', 'region', 'order_date').agg(\n",
    "    F.sum('sales_qty').alias('total_sales_qty'),\n",
    "    F.sum('sales_amount').alias('total_sales_amount')\n",
    ")\n",
    "\n",
    "# Enrichment: Add year and month from order_date for better time-based analysis\n",
    "sales_silver_df = sales_silver_df.withColumn('order_date', F.to_date('order_date', 'yyyy-MM-dd')) \\\n",
    "    .withColumn('year', F.year('order_date')) \\\n",
    "    .withColumn('month', F.month('order_date'))\n",
    "\n",
    "# Show the Silver Layer (Sales Data)\n",
    "sales_silver_df.show(5)\n",
    "sales_silver_path_delta = '/Volumes/workspace/hls_demo_2/refined_data/sales_data_silver_delta'\n",
    "sales_silver_df = sales_silver_df.withColumn('order_date', F.to_date('order_date', 'yyyy-MM-dd'))\n",
    "sales_silver_df.write.format('delta').mode('overwrite').save(sales_silver_path_delta)\n",
    "\n",
    "# Silver Layer Transformations for Inventory Data\n",
    "# Cleanse: Remove rows with missing values in stock_qty or reorder_point\n",
    "inventory_df_cleaned = inventory_df.dropna(subset=['product_code', 'stock_qty', 'reorder_point'])\n",
    "\n",
    "# Aggregation: Total stock and reorder point by product and location (warehouse)\n",
    "inventory_silver_df = inventory_df_cleaned.groupBy('product_code', 'location').agg(\n",
    "    F.sum('stock_qty').alias('total_stock_qty'),\n",
    "    F.sum('reorder_point').alias('total_reorder_point')\n",
    ")\n",
    "\n",
    "# Enrichment: Add stock-to-reorder ratio to help with analysis\n",
    "inventory_silver_df = inventory_silver_df.withColumn(\n",
    "    'stock_to_reorder_ratio', F.col('total_stock_qty') / F.col('total_reorder_point')\n",
    ")\n",
    "\n",
    "# Show the Silver Layer (Inventory Data)\n",
    "inventory_silver_df.show(5)\n",
    "\n",
    "inventory_silver_path_delta = '/Volumes/workspace/hls_demo_2/refined_data/inventory_data_silver_delta'\n",
    "inventory_silver_df.write.format('delta').mode('overwrite').save(inventory_silver_path_delta)\n",
    "\n",
    "# ----\n",
    "\n",
    "# Silver Layer Transformations for Clinical Trial Data\n",
    "# Cleanse: Remove rows with missing trial_id, drug_name, or success_rate\n",
    "from pyspark.sql import functions as F\n",
    "\n",
    "# Calculate trial duration per row (in days)\n",
    "clinical_trial_df = clinical_trial_df.withColumn(\n",
    "    'trial_duration',\n",
    "    (F.col('end_date').cast('long') - F.col('start_date').cast('long')) / (24 * 3600)  # convert seconds to days\n",
    ")\n",
    "\n",
    "# Cleanse\n",
    "clinical_trial_df_cleaned = clinical_trial_df.dropna(subset=['trial_id', 'drug_name', 'success_rate', 'trial_duration'])\n",
    "\n",
    "# Aggregate average success rate and average trial duration per drug\n",
    "clinical_trial_silver_df = clinical_trial_df_cleaned.groupBy('drug_name').agg(\n",
    "    F.avg('success_rate').alias('avg_success_rate'),\n",
    "    F.avg('trial_duration').alias('avg_trial_duration_days')\n",
    ")\n",
    "\n",
    "clinical_trial_silver_df.show(5)\n",
    "\n",
    "\n",
    "clinical_trial_silver_path_delta = '/Volumes/workspace/hls_demo_2/refined_data/clinical_trial_data_silver_delta'\n",
    "clinical_trial_silver_df.write.format('delta').mode('overwrite').save(clinical_trial_silver_path_delta)\n",
    "\n",
    "\n"
   ]
  }
 ],
 "metadata": {
  "application/vnd.databricks.v1+notebook": {
   "computePreferences": null,
   "dashboards": [],
   "environmentMetadata": {
    "base_environment": "",
    "environment_version": "3"
   },
   "inputWidgetPreferences": null,
   "language": "python",
   "notebookMetadata": {
    "pythonIndentUnit": 4
   },
   "notebookName": "silver_layer",
   "widgets": {}
  },
  "language_info": {
   "name": "python"
  }
 },
 "nbformat": 4,
 "nbformat_minor": 0
}
