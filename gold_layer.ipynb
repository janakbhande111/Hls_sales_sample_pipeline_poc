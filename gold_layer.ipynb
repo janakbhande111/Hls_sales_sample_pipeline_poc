{
 "cells": [
  {
   "cell_type": "code",
   "execution_count": 0,
   "metadata": {
    "application/vnd.databricks.v1+cell": {
     "cellMetadata": {
      "byteLimit": 2048000,
      "rowLimit": 10000
     },
     "inputWidgets": {},
     "nuid": "ad388856-1b9b-4b0f-bc85-f47c1ba4a784",
     "showTitle": false,
     "tableResultSettingsMap": {},
     "title": ""
    }
   },
   "outputs": [],
   "source": [
    "from pyspark.sql import SparkSession\n",
    "from pyspark.sql.functions import col, lit\n",
    "\n",
    "spark = SparkSession.builder.appName(\"gold_layer_conform_zone\").getOrCreate()\n",
    "\n",
    "# Paths to silver Delta tables\n",
    "sales_silver_path = '/Volumes/workspace/hls_demo_2/refined_data/sales_data_silver_delta'\n",
    "inventory_silver_path = '/Volumes/workspace/hls_demo_2/refined_data/inventory_data_silver_delta'\n",
    "clinical_trial_silver_path = '/Volumes/workspace/hls_demo_2/refined_data/clinical_trial_data_silver_delta'\n",
    "\n",
    "# Load Silver layer data\n",
    "sales_silver_df = spark.read.format('delta').load(sales_silver_path)\n",
    "inventory_silver_df = spark.read.format('delta').load(inventory_silver_path)\n",
    "clinical_trial_silver_df = spark.read.format('delta').load(clinical_trial_silver_path)\n",
    "\n",
    "# 1. Join sales and inventory on product_code/product_name (may need to map product_name to product_code)\n",
    "# Note: sales_silver_df has product_name, inventory_silver_df has product_code.\n",
    "# You might want to create a lookup or join on product_code if possible.\n",
    "# For simplicity, let's assume product_code is available in both datasets or map accordingly.\n",
    "\n",
    "# Since sales_silver_df doesn't have product_code, but product_name,\n",
    "# and inventory_silver_df only has product_code, we need a mapping between them.\n",
    "# Let's create a product lookup table from bronze or silver (if available).\n",
    "\n",
    "# For demo, let's create a simple product lookup (should ideally come from a master data table)\n",
    "product_lookup = sales_silver_df.select(\"product_name\").distinct().withColumn(\"product_code\", lit(None))\n",
    "\n",
    "# Join sales with product lookup to add product_code (if missing)\n",
    "sales_with_code_df = sales_silver_df.join(product_lookup, on=\"product_name\", how=\"left\")\n",
    "\n",
    "# Join sales_with_code and inventory on product_code\n",
    "gold_sales_inventory_df = sales_with_code_df.join(\n",
    "    inventory_silver_df,\n",
    "    on=\"product_code\",\n",
    "    how=\"inner\"\n",
    ").select(\n",
    "    'product_code',\n",
    "    'product_name',\n",
    "    'region',\n",
    "    'year',\n",
    "    'month',\n",
    "    'total_sales_qty',\n",
    "    'total_sales_amount',\n",
    "    'location',\n",
    "    'total_stock_qty',\n",
    "    'total_reorder_point',\n",
    "    'stock_to_reorder_ratio'\n",
    ")\n",
    "\n",
    "# 2. Combine clinical trial data separately, since it’s drug-focused not product-focused\n",
    "# You could join clinical trial data with sales data on product_name and drug_name if names align.\n",
    "\n",
    "gold_combined_df = gold_sales_inventory_df.join(\n",
    "    clinical_trial_silver_df.withColumnRenamed('drug_name', 'product_name'),\n",
    "    on='product_name',\n",
    "    how='left'\n",
    ").select(\n",
    "    'product_code',\n",
    "    'product_name',\n",
    "    'region',\n",
    "    'year',\n",
    "    'month',\n",
    "    'total_sales_qty',\n",
    "    'total_sales_amount',\n",
    "    'location',\n",
    "    'total_stock_qty',\n",
    "    'total_reorder_point',\n",
    "    'stock_to_reorder_ratio',\n",
    "    'avg_success_rate',\n",
    "    'avg_trial_duration_days'\n",
    ")\n",
    "\n",
    "# Show a sample of the Gold Layer data\n",
    "gold_combined_df.show(10, truncate=False)\n",
    "\n",
    "# Save Gold layer Delta table\n",
    "gold_path_delta = '/Volumes/workspace/hls_demo_2/conform_data/gold_layer_delta'\n",
    "gold_combined_df.write.format('delta').mode('overwrite').save(gold_path_delta)\n"
   ]
  }
 ],
 "metadata": {
  "application/vnd.databricks.v1+notebook": {
   "computePreferences": null,
   "dashboards": [],
   "environmentMetadata": {
    "base_environment": "",
    "environment_version": "3"
   },
   "inputWidgetPreferences": null,
   "language": "python",
   "notebookMetadata": {
    "pythonIndentUnit": 4
   },
   "notebookName": "gold_layer",
   "widgets": {}
  },
  "language_info": {
   "name": "python"
  }
 },
 "nbformat": 4,
 "nbformat_minor": 0
}
