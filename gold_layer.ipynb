{
 "cells": [
  {
   "cell_type": "code",
   "execution_count": 0,
   "metadata": {
    "application/vnd.databricks.v1+cell": {
     "cellMetadata": {
      "byteLimit": 2048000,
      "rowLimit": 10000
     },
     "inputWidgets": {},
     "nuid": "ad388856-1b9b-4b0f-bc85-f47c1ba4a784",
     "showTitle": false,
     "tableResultSettingsMap": {},
     "title": ""
    }
   },
   "outputs": [],
   "source": [
    "from pyspark.sql import SparkSession\n",
    "from pyspark.sql.functions import col\n",
    "\n",
    "spark = SparkSession.builder.appName(\"gold_layer_conform_zone\").getOrCreate()\n",
    "\n",
    "# Paths to Silver and Bronze Delta tables\n",
    "sales_silver_path = '/Volumes/workspace/hls_demo_2/refined_data/sales_data_silver_delta'\n",
    "inventory_silver_path = '/Volumes/workspace/hls_demo_2/refined_data/inventory_data_silver_delta'\n",
    "clinical_trial_silver_path = '/Volumes/workspace/hls_demo_2/refined_data/clinical_trial_data_silver_delta'\n",
    "bronze_sales_path = '/Volumes/workspace/hls_demo_2/raw_data/sales_data_bronze_delta'  # For product_code mapping\n",
    "\n",
    "# Load Silver layer data\n",
    "sales_silver_df = spark.read.format('delta').load(sales_silver_path)\n",
    "inventory_silver_df = spark.read.format('delta').load(inventory_silver_path)\n",
    "clinical_trial_silver_df = spark.read.format('delta').load(clinical_trial_silver_path)\n",
    "\n",
    "# Load Bronze sales data to get product_code mapping\n",
    "bronze_sales_df = spark.read.format('delta').load(bronze_sales_path)\n",
    "product_lookup_df = bronze_sales_df.select('product_code', 'product_name').distinct()\n",
    "\n",
    "# Join sales silver with product lookup to add product_code\n",
    "sales_with_code_df = sales_silver_df.join(product_lookup_df, on='product_name', how='left')\n",
    "\n",
    "# Join sales with inventory on product_code\n",
    "gold_sales_inventory_df = sales_with_code_df.join(\n",
    "    inventory_silver_df,\n",
    "    on='product_code',\n",
    "    how='inner'\n",
    ").select(\n",
    "    'product_code',\n",
    "    'product_name',\n",
    "    'region',\n",
    "    'year',\n",
    "    'month',\n",
    "    'total_sales_qty',\n",
    "    'total_sales_amount',\n",
    "    'location',\n",
    "    'total_stock_qty',\n",
    "    'total_reorder_point',\n",
    "    'stock_to_reorder_ratio'\n",
    ")\n",
    "\n",
    "# Join with clinical trial data on product_name (drug_name renamed)\n",
    "gold_combined_df = gold_sales_inventory_df.join(\n",
    "    clinical_trial_silver_df.withColumnRenamed('drug_name', 'product_name'),\n",
    "    on='product_name',\n",
    "    how='left'\n",
    ").select(\n",
    "    'product_code',\n",
    "    'product_name',\n",
    "    'region',\n",
    "    'year',\n",
    "    'month',\n",
    "    'total_sales_qty',\n",
    "    'total_sales_amount',\n",
    "    'location',\n",
    "    'total_stock_qty',\n",
    "    'total_reorder_point',\n",
    "    'stock_to_reorder_ratio',\n",
    "    'avg_success_rate',\n",
    "    'avg_trial_duration_days'\n",
    ")\n",
    "\n",
    "# Drop product_code before writing to match existing Delta table schema\n",
    "gold_combined_df_final = gold_combined_df.drop('product_code')\n",
    "\n",
    "# Show sample output\n",
    "gold_combined_df_final.show(10, truncate=False)\n",
    "\n",
    "# Save Gold layer Delta table\n",
    "gold_path_delta = '/Volumes/workspace/hls_demo_2/conform_data/gold_layer_delta'\n",
    "gold_combined_df_final.write.format('delta').mode('overwrite').save(gold_path_delta)\n"
   ]
  }
 ],
 "metadata": {
  "application/vnd.databricks.v1+notebook": {
   "computePreferences": null,
   "dashboards": [],
   "environmentMetadata": {
    "base_environment": "",
    "environment_version": "3"
   },
   "inputWidgetPreferences": null,
   "language": "python",
   "notebookMetadata": {
    "pythonIndentUnit": 4
   },
   "notebookName": "gold_layer",
   "widgets": {}
  },
  "language_info": {
   "name": "python"
  }
 },
 "nbformat": 4,
 "nbformat_minor": 0
}
