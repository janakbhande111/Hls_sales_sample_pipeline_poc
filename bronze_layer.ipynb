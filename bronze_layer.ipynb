{
 "cells": [
  {
   "cell_type": "code",
   "execution_count": 0,
   "metadata": {
    "application/vnd.databricks.v1+cell": {
     "cellMetadata": {
      "byteLimit": 2048000,
      "rowLimit": 10000
     },
     "inputWidgets": {},
     "nuid": "7f72e1b5-c9ac-4396-9c45-410939ee8c03",
     "showTitle": false,
     "tableResultSettingsMap": {},
     "title": ""
    }
   },
   "outputs": [],
   "source": [
    "# Import required libraries\n",
    "from pyspark.sql import SparkSession\n",
    "from pyspark.sql.functions import col\n",
    "import random\n",
    "import datetime\n",
    "\n",
    "# Initialize Spark session\n",
    "spark = SparkSession.builder.appName('hls_demo_2_sample_data').getOrCreate()\n",
    "\n",
    "# Sample data generation function for Sales Data\n",
    "def generate_sales_data(num_rows=1000):\n",
    "    products = ['Aspirin', 'Ibuprofen', 'Paracetamol', 'Amlodipine', 'Metformin']\n",
    "    regions = ['North America', 'Europe', 'Asia', 'Africa', 'South America']\n",
    "    \n",
    "    data = []\n",
    "    \n",
    "    for _ in range(num_rows):\n",
    "        product = random.choice(products)\n",
    "        region = random.choice(regions)\n",
    "        sales_qty = random.randint(10, 1000)  # Random sales quantity\n",
    "        sales_amount = sales_qty * random.randint(5, 30)  # Random sales amount (price per unit)\n",
    "        order_date = datetime.datetime.now() - datetime.timedelta(days=random.randint(0, 365))  # Random date within the last year\n",
    "        product_code = f\"PROD_{random.randint(1000, 9999)}\"\n",
    "        \n",
    "        data.append((product_code, product, region, sales_qty, sales_amount, order_date))\n",
    "    \n",
    "    return data\n",
    "\n",
    "# Sample data generation function for Inventory Data\n",
    "def generate_inventory_data(num_rows=1000):\n",
    "    product_codes = ['PROD_1234', 'PROD_2345', 'PROD_3456', 'PROD_4567', 'PROD_5678']\n",
    "    warehouse_locations = ['WH_A', 'WH_B', 'WH_C', 'WH_D', 'WH_E']\n",
    "    \n",
    "    data = []\n",
    "    \n",
    "    for _ in range(num_rows):\n",
    "        product_code = random.choice(product_codes)\n",
    "        location = random.choice(warehouse_locations)\n",
    "        stock_qty = random.randint(50, 5000)  # Random stock quantity\n",
    "        reorder_point = stock_qty // 2  # Reorder point is half of the stock\n",
    "        last_received_date = datetime.datetime.now() - datetime.timedelta(days=random.randint(0, 365))  # Random date\n",
    "        \n",
    "        data.append((product_code, location, stock_qty, reorder_point, last_received_date))\n",
    "    \n",
    "    return data\n",
    "\n",
    "# Sample data generation function for Clinical Trial Data\n",
    "def generate_clinical_trial_data(num_rows=1000):\n",
    "    trial_ids = ['TRIAL_A', 'TRIAL_B', 'TRIAL_C', 'TRIAL_D', 'TRIAL_E']\n",
    "    drug_names = ['Aspirin', 'Ibuprofen', 'Paracetamol', 'Metformin']\n",
    "    \n",
    "    data = []\n",
    "    \n",
    "    for _ in range(num_rows):\n",
    "        trial_id = random.choice(trial_ids)\n",
    "        drug_name = random.choice(drug_names)\n",
    "        participant_count = random.randint(100, 1000)  # Random number of participants\n",
    "        success_rate = random.uniform(0.5, 0.95)  # Random success rate between 50% and 95%\n",
    "        start_date = datetime.datetime.now() - datetime.timedelta(days=random.randint(0, 365))  # Random start date\n",
    "        end_date = start_date + datetime.timedelta(days=random.randint(30, 180))  # Random end date (1-6 months)\n",
    "        \n",
    "        data.append((trial_id, drug_name, participant_count, success_rate, start_date, end_date))\n",
    "    \n",
    "    return data\n",
    "\n",
    "# Generate sample data for each dataset\n",
    "sales_data = generate_sales_data(1000)\n",
    "inventory_data = generate_inventory_data(1000)\n",
    "clinical_trial_data = generate_clinical_trial_data(1000)\n",
    "\n",
    "# Create DataFrames for each dataset\n",
    "sales_df = spark.createDataFrame(sales_data, ['product_code', 'product_name', 'region', 'sales_qty', 'sales_amount', 'order_date'])\n",
    "inventory_df = spark.createDataFrame(inventory_data, ['product_code', 'location', 'stock_qty', 'reorder_point', 'last_received_date'])\n",
    "clinical_trial_df = spark.createDataFrame(clinical_trial_data, ['trial_id', 'drug_name', 'participant_count', 'success_rate', 'start_date', 'end_date'])\n",
    "\n",
    "# Show a sample of the DataFrames\n",
    "sales_df.show(8)\n",
    "inventory_df.show(8)\n",
    "clinical_trial_df.show(8)\n",
    "\n",
    "# Define paths to save data (Bronze layer paths)\n",
    "bronze_path_sales_parquet = '/Volumes/workspace//hls_demo_2/raw_data/sales_data_bronze.parquet'\n",
    "bronze_path_inventory_parquet = '/Volumes/workspace/hls_demo_2/raw_data/inventory_data_bronze.parquet'\n",
    "bronze_path_clinical_trial_parquet = '/Volumes/workspace/hls_demo_2/raw_data/clinical_trial_data_bronze.parquet'\n",
    "\n",
    "bronze_path_sales_delta = '/Volumes/workspace/hls_demo_2/raw_data/sales_data_bronze_delta'\n",
    "bronze_path_inventory_delta = '/Volumes/workspace/hls_demo_2/raw_data/inventory_data_bronze_delta'\n",
    "bronze_path_clinical_trial_delta = '/Volumes/workspace/hls_demo_2/raw_data/clinical_trial_data_bronze_delta'\n",
    "\n",
    "# Save each DataFrame in Parquet format\n",
    "sales_df.write.mode('overwrite').format(\"parquet\").save(bronze_path_sales_parquet)\n",
    "inventory_df.write.mode('overwrite').parquet(bronze_path_inventory_parquet)\n",
    "clinical_trial_df.write.mode('overwrite').parquet(bronze_path_clinical_trial_parquet)\n",
    "\n",
    "# Optionally, save each DataFrame in Delta format\n",
    "sales_df.write.format('delta').mode('overwrite').save(bronze_path_sales_delta)\n",
    "inventory_df.write.format('delta').mode('overwrite').save(bronze_path_inventory_delta)\n",
    "clinical_trial_df.write.format('delta').mode('overwrite').save(bronze_path_clinical_trial_delta)\n"
   ]
  },
  {
   "cell_type": "code",
   "execution_count": 0,
   "metadata": {
    "application/vnd.databricks.v1+cell": {
     "cellMetadata": {
      "byteLimit": 2048000,
      "rowLimit": 10000
     },
     "inputWidgets": {},
     "nuid": "a522fe86-98f0-4b54-be23-430f350d6672",
     "showTitle": false,
     "tableResultSettingsMap": {},
     "title": ""
    }
   },
   "outputs": [],
   "source": [
    "\n",
    "# Verify the data in Delta format\n",
    "sales_delta_df = spark.read.format('delta').load(bronze_path_sales_delta)\n",
    "inventory_delta_df = spark.read.format('delta').load(bronze_path_inventory_delta)\n",
    "clinical_trial_delta_df = spark.read.format('delta').load(bronze_path_clinical_trial_delta)\n",
    "\n",
    "\n",
    "sales_delta_df.show(5)\n",
    "inventory_delta_df.show(5)\n",
    "clinical_trial_delta_df.show(5)"
   ]
  }
 ],
 "metadata": {
  "application/vnd.databricks.v1+notebook": {
   "computePreferences": null,
   "dashboards": [],
   "environmentMetadata": {
    "base_environment": "",
    "environment_version": "3"
   },
   "inputWidgetPreferences": null,
   "language": "python",
   "notebookMetadata": {
    "pythonIndentUnit": 4
   },
   "notebookName": "bronze_layer",
   "widgets": {}
  },
  "language_info": {
   "name": "python"
  }
 },
 "nbformat": 4,
 "nbformat_minor": 0
}
